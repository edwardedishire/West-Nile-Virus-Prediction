{
 "cells": [
  {
   "cell_type": "markdown",
   "id": "b47bb1f0",
   "metadata": {},
   "source": [
    "<img src=\"./image/Nile2.jpg\" width=\"1000\" height=\"50\">"
   ]
  },
  {
   "cell_type": "markdown",
   "id": "7a36c578",
   "metadata": {},
   "source": [
    "[*source*](https://www.livescience.com/nile-river-older-than-thought.html)"
   ]
  },
  {
   "cell_type": "markdown",
   "id": "70b43841",
   "metadata": {},
   "source": [
    "## <span style=\"color:teal\"> West Nile Virus Modelling, Cost Analysis and Executive Summary Notebook</span>"
   ]
  },
  {
   "cell_type": "markdown",
   "id": "aa786f98",
   "metadata": {},
   "source": [
    "---\n",
    "---"
   ]
  },
  {
   "cell_type": "markdown",
   "id": "bbe9d5ef",
   "metadata": {},
   "source": [
    "### Content:\n",
    "\n",
    "#### 1) Modelling : KNearest Neighbours, Support Vector Machines, Logistic Regression, Random Forests, Extra Trees\n",
    "#### 2) Modelling Summary and Selection\n",
    "#### 3) Cost-Benefit Analysis\n",
    "#### 4) Executive Summary"
   ]
  },
  {
   "cell_type": "markdown",
   "id": "132e411f",
   "metadata": {},
   "source": [
    "---\n",
    "---"
   ]
  },
  {
   "cell_type": "markdown",
   "id": "9e37669a",
   "metadata": {},
   "source": [
    "### Imports"
   ]
  },
  {
   "cell_type": "code",
   "execution_count": 1,
   "id": "bed04aff",
   "metadata": {},
   "outputs": [],
   "source": [
    "#Importing the necessary libraries\n",
    "import pandas as pd\n",
    "import numpy as np\n",
    "import matplotlib.pyplot as plt\n",
    "import scipy.stats as stats\n",
    "import seaborn as sns\n",
    "import os\n",
    "import re\n",
    "import time\n",
    "from sklearn.model_selection import train_test_split, GridSearchCV, cross_val_score\n",
    "from sklearn.metrics import confusion_matrix, plot_confusion_matrix, f1_score, roc_auc_score\n",
    "from sklearn.neighbors import KNeighborsClassifier\n",
    "from sklearn.svm import SVC\n",
    "from sklearn.preprocessing import StandardScaler\n",
    "from sklearn.pipeline import Pipeline\n",
    "from sklearn.linear_model import LogisticRegression\n",
    "from sklearn.ensemble import RandomForestClassifier, ExtraTreesClassifier\n",
    "\n",
    "#for kernel dying\n",
    "import os\n",
    "os.environ['KMP_DUPLICATE_LIB_OK']='True'\n",
    "\n",
    "%matplotlib inline\n",
    "sns.set()"
   ]
  },
  {
   "cell_type": "code",
   "execution_count": 2,
   "id": "8f3b51d7",
   "metadata": {},
   "outputs": [],
   "source": [
    "#Loading the necessary datasets\n",
    "train = pd.read_csv('./assets/train_clean.csv')\n",
    "test = pd.read_csv('./assets/test_clean.csv')\n",
    "spray = pd.read_csv('./assets/spray_clean.csv')\n",
    "weather = pd.read_csv('./assets/weather_clean.csv')\n",
    "train_weather = pd.read_csv('./assets/train_weather_clean.csv')\n",
    "train_weather1 = pd.read_csv('./assets/train_weather_clean.csv')\n",
    "test_weather = pd.read_csv('./assets/test_weather_clean.csv')\n",
    "test_weather1 = pd.read_csv('./assets/test_weather_clean.csv')"
   ]
  },
  {
   "cell_type": "markdown",
   "id": "dabe3356",
   "metadata": {},
   "source": [
    "---\n",
    "---"
   ]
  },
  {
   "cell_type": "markdown",
   "id": "9051d5ee",
   "metadata": {},
   "source": [
    "### Prepare data to set X and Y variable"
   ]
  },
  {
   "cell_type": "code",
   "execution_count": 3,
   "id": "f15f29fb",
   "metadata": {},
   "outputs": [
    {
     "data": {
      "text/html": [
       "<div>\n",
       "<style scoped>\n",
       "    .dataframe tbody tr th:only-of-type {\n",
       "        vertical-align: middle;\n",
       "    }\n",
       "\n",
       "    .dataframe tbody tr th {\n",
       "        vertical-align: top;\n",
       "    }\n",
       "\n",
       "    .dataframe thead th {\n",
       "        text-align: right;\n",
       "    }\n",
       "</style>\n",
       "<table border=\"1\" class=\"dataframe\">\n",
       "  <thead>\n",
       "    <tr style=\"text-align: right;\">\n",
       "      <th></th>\n",
       "      <th>block</th>\n",
       "      <th>trap</th>\n",
       "      <th>latitude</th>\n",
       "      <th>longitude</th>\n",
       "      <th>nummosquitos</th>\n",
       "      <th>wnvpresent</th>\n",
       "      <th>year</th>\n",
       "      <th>month</th>\n",
       "      <th>day</th>\n",
       "      <th>station</th>\n",
       "      <th>...</th>\n",
       "      <th>resultspeed</th>\n",
       "      <th>resultdir</th>\n",
       "      <th>avgspeed</th>\n",
       "      <th>species_CULEX ERRATICUS</th>\n",
       "      <th>species_CULEX PIPIENS</th>\n",
       "      <th>species_CULEX PIPIENS/RESTUANS</th>\n",
       "      <th>species_CULEX RESTUANS</th>\n",
       "      <th>species_CULEX SALINARIUS</th>\n",
       "      <th>species_CULEX TARSALIS</th>\n",
       "      <th>species_CULEX TERRITANS</th>\n",
       "    </tr>\n",
       "  </thead>\n",
       "  <tbody>\n",
       "    <tr>\n",
       "      <th>0</th>\n",
       "      <td>41</td>\n",
       "      <td>2</td>\n",
       "      <td>41.954690</td>\n",
       "      <td>-87.800991</td>\n",
       "      <td>1</td>\n",
       "      <td>0</td>\n",
       "      <td>2007</td>\n",
       "      <td>5</td>\n",
       "      <td>29</td>\n",
       "      <td>1</td>\n",
       "      <td>...</td>\n",
       "      <td>5.8</td>\n",
       "      <td>18</td>\n",
       "      <td>6.5</td>\n",
       "      <td>0</td>\n",
       "      <td>0</td>\n",
       "      <td>1</td>\n",
       "      <td>0</td>\n",
       "      <td>0</td>\n",
       "      <td>0</td>\n",
       "      <td>0</td>\n",
       "    </tr>\n",
       "    <tr>\n",
       "      <th>1</th>\n",
       "      <td>41</td>\n",
       "      <td>2</td>\n",
       "      <td>41.954690</td>\n",
       "      <td>-87.800991</td>\n",
       "      <td>1</td>\n",
       "      <td>0</td>\n",
       "      <td>2007</td>\n",
       "      <td>5</td>\n",
       "      <td>29</td>\n",
       "      <td>2</td>\n",
       "      <td>...</td>\n",
       "      <td>5.8</td>\n",
       "      <td>16</td>\n",
       "      <td>7.4</td>\n",
       "      <td>0</td>\n",
       "      <td>0</td>\n",
       "      <td>1</td>\n",
       "      <td>0</td>\n",
       "      <td>0</td>\n",
       "      <td>0</td>\n",
       "      <td>0</td>\n",
       "    </tr>\n",
       "    <tr>\n",
       "      <th>2</th>\n",
       "      <td>41</td>\n",
       "      <td>2</td>\n",
       "      <td>41.954690</td>\n",
       "      <td>-87.800991</td>\n",
       "      <td>1</td>\n",
       "      <td>0</td>\n",
       "      <td>2007</td>\n",
       "      <td>5</td>\n",
       "      <td>29</td>\n",
       "      <td>1</td>\n",
       "      <td>...</td>\n",
       "      <td>5.8</td>\n",
       "      <td>18</td>\n",
       "      <td>6.5</td>\n",
       "      <td>0</td>\n",
       "      <td>0</td>\n",
       "      <td>0</td>\n",
       "      <td>1</td>\n",
       "      <td>0</td>\n",
       "      <td>0</td>\n",
       "      <td>0</td>\n",
       "    </tr>\n",
       "    <tr>\n",
       "      <th>3</th>\n",
       "      <td>41</td>\n",
       "      <td>2</td>\n",
       "      <td>41.954690</td>\n",
       "      <td>-87.800991</td>\n",
       "      <td>1</td>\n",
       "      <td>0</td>\n",
       "      <td>2007</td>\n",
       "      <td>5</td>\n",
       "      <td>29</td>\n",
       "      <td>2</td>\n",
       "      <td>...</td>\n",
       "      <td>5.8</td>\n",
       "      <td>16</td>\n",
       "      <td>7.4</td>\n",
       "      <td>0</td>\n",
       "      <td>0</td>\n",
       "      <td>0</td>\n",
       "      <td>1</td>\n",
       "      <td>0</td>\n",
       "      <td>0</td>\n",
       "      <td>0</td>\n",
       "    </tr>\n",
       "    <tr>\n",
       "      <th>4</th>\n",
       "      <td>62</td>\n",
       "      <td>7</td>\n",
       "      <td>41.994991</td>\n",
       "      <td>-87.769279</td>\n",
       "      <td>1</td>\n",
       "      <td>0</td>\n",
       "      <td>2007</td>\n",
       "      <td>5</td>\n",
       "      <td>29</td>\n",
       "      <td>1</td>\n",
       "      <td>...</td>\n",
       "      <td>5.8</td>\n",
       "      <td>18</td>\n",
       "      <td>6.5</td>\n",
       "      <td>0</td>\n",
       "      <td>0</td>\n",
       "      <td>0</td>\n",
       "      <td>1</td>\n",
       "      <td>0</td>\n",
       "      <td>0</td>\n",
       "      <td>0</td>\n",
       "    </tr>\n",
       "  </tbody>\n",
       "</table>\n",
       "<p>5 rows × 31 columns</p>\n",
       "</div>"
      ],
      "text/plain": [
       "   block  trap   latitude  longitude  nummosquitos  wnvpresent  year  month  \\\n",
       "0     41     2  41.954690 -87.800991             1           0  2007      5   \n",
       "1     41     2  41.954690 -87.800991             1           0  2007      5   \n",
       "2     41     2  41.954690 -87.800991             1           0  2007      5   \n",
       "3     41     2  41.954690 -87.800991             1           0  2007      5   \n",
       "4     62     7  41.994991 -87.769279             1           0  2007      5   \n",
       "\n",
       "   day  station  ...  resultspeed  resultdir  avgspeed  \\\n",
       "0   29        1  ...          5.8         18       6.5   \n",
       "1   29        2  ...          5.8         16       7.4   \n",
       "2   29        1  ...          5.8         18       6.5   \n",
       "3   29        2  ...          5.8         16       7.4   \n",
       "4   29        1  ...          5.8         18       6.5   \n",
       "\n",
       "   species_CULEX ERRATICUS  species_CULEX PIPIENS  \\\n",
       "0                        0                      0   \n",
       "1                        0                      0   \n",
       "2                        0                      0   \n",
       "3                        0                      0   \n",
       "4                        0                      0   \n",
       "\n",
       "   species_CULEX PIPIENS/RESTUANS  species_CULEX RESTUANS  \\\n",
       "0                               1                       0   \n",
       "1                               1                       0   \n",
       "2                               0                       1   \n",
       "3                               0                       1   \n",
       "4                               0                       1   \n",
       "\n",
       "   species_CULEX SALINARIUS  species_CULEX TARSALIS  species_CULEX TERRITANS  \n",
       "0                         0                       0                        0  \n",
       "1                         0                       0                        0  \n",
       "2                         0                       0                        0  \n",
       "3                         0                       0                        0  \n",
       "4                         0                       0                        0  \n",
       "\n",
       "[5 rows x 31 columns]"
      ]
     },
     "execution_count": 3,
     "metadata": {},
     "output_type": "execute_result"
    }
   ],
   "source": [
    "train_weather.head()"
   ]
  },
  {
   "cell_type": "code",
   "execution_count": 4,
   "id": "afcb48f3",
   "metadata": {},
   "outputs": [],
   "source": [
    "train_weather1.drop(columns = 'wnvpresent', inplace=True)\n",
    "test_weather.drop(columns='id', inplace=True)"
   ]
  },
  {
   "cell_type": "code",
   "execution_count": 5,
   "id": "b72843db",
   "metadata": {},
   "outputs": [
    {
     "data": {
      "text/html": [
       "<div>\n",
       "<style scoped>\n",
       "    .dataframe tbody tr th:only-of-type {\n",
       "        vertical-align: middle;\n",
       "    }\n",
       "\n",
       "    .dataframe tbody tr th {\n",
       "        vertical-align: top;\n",
       "    }\n",
       "\n",
       "    .dataframe thead th {\n",
       "        text-align: right;\n",
       "    }\n",
       "</style>\n",
       "<table border=\"1\" class=\"dataframe\">\n",
       "  <thead>\n",
       "    <tr style=\"text-align: right;\">\n",
       "      <th></th>\n",
       "      <th>block</th>\n",
       "      <th>trap</th>\n",
       "      <th>latitude</th>\n",
       "      <th>longitude</th>\n",
       "      <th>nummosquitos</th>\n",
       "      <th>year</th>\n",
       "      <th>month</th>\n",
       "      <th>day</th>\n",
       "      <th>station</th>\n",
       "      <th>tmax</th>\n",
       "      <th>...</th>\n",
       "      <th>resultspeed</th>\n",
       "      <th>resultdir</th>\n",
       "      <th>avgspeed</th>\n",
       "      <th>species_CULEX ERRATICUS</th>\n",
       "      <th>species_CULEX PIPIENS</th>\n",
       "      <th>species_CULEX PIPIENS/RESTUANS</th>\n",
       "      <th>species_CULEX RESTUANS</th>\n",
       "      <th>species_CULEX SALINARIUS</th>\n",
       "      <th>species_CULEX TARSALIS</th>\n",
       "      <th>species_CULEX TERRITANS</th>\n",
       "    </tr>\n",
       "  </thead>\n",
       "  <tbody>\n",
       "    <tr>\n",
       "      <th>0</th>\n",
       "      <td>41</td>\n",
       "      <td>2</td>\n",
       "      <td>41.954690</td>\n",
       "      <td>-87.800991</td>\n",
       "      <td>1</td>\n",
       "      <td>2007</td>\n",
       "      <td>5</td>\n",
       "      <td>29</td>\n",
       "      <td>1</td>\n",
       "      <td>88</td>\n",
       "      <td>...</td>\n",
       "      <td>5.8</td>\n",
       "      <td>18</td>\n",
       "      <td>6.5</td>\n",
       "      <td>0</td>\n",
       "      <td>0</td>\n",
       "      <td>1</td>\n",
       "      <td>0</td>\n",
       "      <td>0</td>\n",
       "      <td>0</td>\n",
       "      <td>0</td>\n",
       "    </tr>\n",
       "    <tr>\n",
       "      <th>1</th>\n",
       "      <td>41</td>\n",
       "      <td>2</td>\n",
       "      <td>41.954690</td>\n",
       "      <td>-87.800991</td>\n",
       "      <td>1</td>\n",
       "      <td>2007</td>\n",
       "      <td>5</td>\n",
       "      <td>29</td>\n",
       "      <td>2</td>\n",
       "      <td>88</td>\n",
       "      <td>...</td>\n",
       "      <td>5.8</td>\n",
       "      <td>16</td>\n",
       "      <td>7.4</td>\n",
       "      <td>0</td>\n",
       "      <td>0</td>\n",
       "      <td>1</td>\n",
       "      <td>0</td>\n",
       "      <td>0</td>\n",
       "      <td>0</td>\n",
       "      <td>0</td>\n",
       "    </tr>\n",
       "    <tr>\n",
       "      <th>2</th>\n",
       "      <td>41</td>\n",
       "      <td>2</td>\n",
       "      <td>41.954690</td>\n",
       "      <td>-87.800991</td>\n",
       "      <td>1</td>\n",
       "      <td>2007</td>\n",
       "      <td>5</td>\n",
       "      <td>29</td>\n",
       "      <td>1</td>\n",
       "      <td>88</td>\n",
       "      <td>...</td>\n",
       "      <td>5.8</td>\n",
       "      <td>18</td>\n",
       "      <td>6.5</td>\n",
       "      <td>0</td>\n",
       "      <td>0</td>\n",
       "      <td>0</td>\n",
       "      <td>1</td>\n",
       "      <td>0</td>\n",
       "      <td>0</td>\n",
       "      <td>0</td>\n",
       "    </tr>\n",
       "    <tr>\n",
       "      <th>3</th>\n",
       "      <td>41</td>\n",
       "      <td>2</td>\n",
       "      <td>41.954690</td>\n",
       "      <td>-87.800991</td>\n",
       "      <td>1</td>\n",
       "      <td>2007</td>\n",
       "      <td>5</td>\n",
       "      <td>29</td>\n",
       "      <td>2</td>\n",
       "      <td>88</td>\n",
       "      <td>...</td>\n",
       "      <td>5.8</td>\n",
       "      <td>16</td>\n",
       "      <td>7.4</td>\n",
       "      <td>0</td>\n",
       "      <td>0</td>\n",
       "      <td>0</td>\n",
       "      <td>1</td>\n",
       "      <td>0</td>\n",
       "      <td>0</td>\n",
       "      <td>0</td>\n",
       "    </tr>\n",
       "    <tr>\n",
       "      <th>4</th>\n",
       "      <td>62</td>\n",
       "      <td>7</td>\n",
       "      <td>41.994991</td>\n",
       "      <td>-87.769279</td>\n",
       "      <td>1</td>\n",
       "      <td>2007</td>\n",
       "      <td>5</td>\n",
       "      <td>29</td>\n",
       "      <td>1</td>\n",
       "      <td>88</td>\n",
       "      <td>...</td>\n",
       "      <td>5.8</td>\n",
       "      <td>18</td>\n",
       "      <td>6.5</td>\n",
       "      <td>0</td>\n",
       "      <td>0</td>\n",
       "      <td>0</td>\n",
       "      <td>1</td>\n",
       "      <td>0</td>\n",
       "      <td>0</td>\n",
       "      <td>0</td>\n",
       "    </tr>\n",
       "  </tbody>\n",
       "</table>\n",
       "<p>5 rows × 30 columns</p>\n",
       "</div>"
      ],
      "text/plain": [
       "   block  trap   latitude  longitude  nummosquitos  year  month  day  station  \\\n",
       "0     41     2  41.954690 -87.800991             1  2007      5   29        1   \n",
       "1     41     2  41.954690 -87.800991             1  2007      5   29        2   \n",
       "2     41     2  41.954690 -87.800991             1  2007      5   29        1   \n",
       "3     41     2  41.954690 -87.800991             1  2007      5   29        2   \n",
       "4     62     7  41.994991 -87.769279             1  2007      5   29        1   \n",
       "\n",
       "   tmax  ...  resultspeed  resultdir  avgspeed  species_CULEX ERRATICUS  \\\n",
       "0    88  ...          5.8         18       6.5                        0   \n",
       "1    88  ...          5.8         16       7.4                        0   \n",
       "2    88  ...          5.8         18       6.5                        0   \n",
       "3    88  ...          5.8         16       7.4                        0   \n",
       "4    88  ...          5.8         18       6.5                        0   \n",
       "\n",
       "   species_CULEX PIPIENS  species_CULEX PIPIENS/RESTUANS  \\\n",
       "0                      0                               1   \n",
       "1                      0                               1   \n",
       "2                      0                               0   \n",
       "3                      0                               0   \n",
       "4                      0                               0   \n",
       "\n",
       "   species_CULEX RESTUANS  species_CULEX SALINARIUS  species_CULEX TARSALIS  \\\n",
       "0                       0                         0                       0   \n",
       "1                       0                         0                       0   \n",
       "2                       1                         0                       0   \n",
       "3                       1                         0                       0   \n",
       "4                       1                         0                       0   \n",
       "\n",
       "   species_CULEX TERRITANS  \n",
       "0                        0  \n",
       "1                        0  \n",
       "2                        0  \n",
       "3                        0  \n",
       "4                        0  \n",
       "\n",
       "[5 rows x 30 columns]"
      ]
     },
     "execution_count": 5,
     "metadata": {},
     "output_type": "execute_result"
    }
   ],
   "source": [
    "train_weather1.head()"
   ]
  },
  {
   "cell_type": "code",
   "execution_count": 6,
   "id": "c441ec9a",
   "metadata": {},
   "outputs": [],
   "source": [
    "# set X variable and target y variable\n",
    "\n",
    "X = train_weather1\n",
    "y = train_weather[\"wnvpresent\"]"
   ]
  },
  {
   "cell_type": "markdown",
   "id": "d50d8299",
   "metadata": {},
   "source": [
    "---\n",
    "---"
   ]
  },
  {
   "cell_type": "markdown",
   "id": "c043fc66",
   "metadata": {},
   "source": [
    "### Split data"
   ]
  },
  {
   "cell_type": "code",
   "execution_count": 7,
   "id": "6a8d0ff0",
   "metadata": {},
   "outputs": [],
   "source": [
    "# split the data into the training and testing sets\n",
    "\n",
    "X_train, X_val, y_train, y_val = train_test_split(X,y,\n",
    "                                                    test_size=0.33,\n",
    "                                                    stratify=y,\n",
    "                                                    random_state=42\n",
    "                                                    )"
   ]
  },
  {
   "cell_type": "markdown",
   "id": "db99fa59",
   "metadata": {},
   "source": [
    "### Apply Standard Scaler and obtain Baseline Score"
   ]
  },
  {
   "cell_type": "code",
   "execution_count": 8,
   "id": "c8cf473c",
   "metadata": {},
   "outputs": [],
   "source": [
    "# standard scaler applied\n",
    "\n",
    "ss = StandardScaler()\n",
    "ss.fit(X_train)\n",
    "X_train = ss.transform(X_train)\n",
    "X_val = ss.transform(X_val)\n",
    "test_kaggle = ss.transform(test_weather)\n"
   ]
  },
  {
   "cell_type": "code",
   "execution_count": 9,
   "id": "3d26fdf0",
   "metadata": {},
   "outputs": [
    {
     "data": {
      "text/plain": [
       "0    0.946077\n",
       "1    0.053923\n",
       "Name: wnvpresent, dtype: float64"
      ]
     },
     "execution_count": 9,
     "metadata": {},
     "output_type": "execute_result"
    }
   ],
   "source": [
    "# baseline score\n",
    "\n",
    "y.value_counts(normalize = True)"
   ]
  },
  {
   "cell_type": "markdown",
   "id": "3495df4d",
   "metadata": {},
   "source": [
    "From the value counts, we know that the baseline model will predict the presence of the West Nile Virus 5% of the time (i.e. y=1, normalized)"
   ]
  },
  {
   "cell_type": "markdown",
   "id": "b7e40426",
   "metadata": {},
   "source": [
    "---\n",
    "---"
   ]
  },
  {
   "cell_type": "markdown",
   "id": "bd194a09",
   "metadata": {},
   "source": [
    "## <span style=\"color:teal\"> 1) Modelling</span>"
   ]
  },
  {
   "cell_type": "markdown",
   "id": "d0d5c263",
   "metadata": {},
   "source": [
    "In building our classifier model, we will be looking at the following models: \n",
    "- KNearest Neighbour with GridSearchCV\n",
    "- Support Vector Machines with GridSearchCV\n",
    "- Logistic Regression with GridSearchCV\n",
    "- Random Forests with GridSearchCV\n",
    "- Extra Trees with GridSearchCV\n",
    "\n",
    "We have decided to GridSearch through the various models so as to identify the best parameters that best classify the presence of the West Nile Virus"
   ]
  },
  {
   "cell_type": "markdown",
   "id": "d1e0173e",
   "metadata": {},
   "source": [
    "---\n",
    "---"
   ]
  },
  {
   "cell_type": "markdown",
   "id": "1cf0ffae",
   "metadata": {},
   "source": [
    "### KNearest Neighbour with GridSearchCV"
   ]
  },
  {
   "cell_type": "code",
   "execution_count": 10,
   "id": "301e0b63",
   "metadata": {},
   "outputs": [],
   "source": [
    "# instantiate our model\n",
    "\n",
    "knn = KNeighborsClassifier() "
   ]
  },
  {
   "cell_type": "code",
   "execution_count": 11,
   "id": "014cfdad",
   "metadata": {},
   "outputs": [
    {
     "name": "stdout",
     "output_type": "stream",
     "text": [
      "KNN mean score: 0.9455\n"
     ]
    }
   ],
   "source": [
    "#Preliminar modeling with cross val score\n",
    "\n",
    "pre_score_knn = cross_val_score(estimator = knn,\n",
    "                            X = X_train, \n",
    "                            y = y_train,\n",
    "                            scoring = 'accuracy',\n",
    "                            cv = 10,\n",
    "                            verbose = 0)\n",
    "\n",
    "print('KNN mean score: %5.4f' %np.mean(pre_score_knn))\n"
   ]
  },
  {
   "cell_type": "code",
   "execution_count": 12,
   "id": "b1af706c",
   "metadata": {},
   "outputs": [
    {
     "data": {
      "text/plain": [
       "GridSearchCV(cv=5, estimator=KNeighborsClassifier(),\n",
       "             param_grid={'n_neighbors': [1, 2, 3, 4, 5, 6, 7, 8, 9, 10, 11, 12,\n",
       "                                         13, 14, 15, 16, 17, 18, 19, 20, 21, 22,\n",
       "                                         23, 24, 25, 26, 27, 28, 29, 30],\n",
       "                         'weights': ['uniform', 'distance']})"
      ]
     },
     "execution_count": 12,
     "metadata": {},
     "output_type": "execute_result"
    }
   ],
   "source": [
    "# KNN using GridSearch to find optimum KNN value and fit\n",
    "\n",
    "k_range = list(range(1,31))\n",
    "weight_options = [\"uniform\", \"distance\"]\n",
    "param_grid_knn = dict(n_neighbors = k_range, weights = weight_options)\n",
    "gs_knn = GridSearchCV(knn, param_grid_knn, cv=5)\n",
    "gs_knn.fit(X_train,y_train)\n"
   ]
  },
  {
   "cell_type": "code",
   "execution_count": 13,
   "id": "e6b7dadd",
   "metadata": {},
   "outputs": [
    {
     "name": "stdout",
     "output_type": "stream",
     "text": [
      "KNN best parameter: {'n_neighbors': 15, 'weights': 'distance'}\n"
     ]
    }
   ],
   "source": [
    "# check knn best parameter\n",
    "\n",
    "print(f'KNN best parameter: {gs_knn.best_params_}')"
   ]
  },
  {
   "cell_type": "code",
   "execution_count": 14,
   "id": "6bc9cc0f",
   "metadata": {},
   "outputs": [
    {
     "name": "stdout",
     "output_type": "stream",
     "text": [
      "KNN best score: 0.9484854968649413\n"
     ]
    }
   ],
   "source": [
    "# gridsearch best score\n",
    "\n",
    "print(f'KNN best score: {gs_knn.best_score_}')"
   ]
  },
  {
   "cell_type": "code",
   "execution_count": 15,
   "id": "d93053cc",
   "metadata": {},
   "outputs": [],
   "source": [
    "# predictions \n",
    "\n",
    "predictions_knn = gs_knn.predict(X_val)"
   ]
  },
  {
   "cell_type": "code",
   "execution_count": 16,
   "id": "5f509af5",
   "metadata": {},
   "outputs": [
    {
     "name": "stdout",
     "output_type": "stream",
     "text": [
      "1.0\n"
     ]
    }
   ],
   "source": [
    "# training score\n",
    "\n",
    "print(gs_knn.score(X_train, y_train))"
   ]
  },
  {
   "cell_type": "code",
   "execution_count": 17,
   "id": "db9be771",
   "metadata": {},
   "outputs": [
    {
     "name": "stdout",
     "output_type": "stream",
     "text": [
      "0.9472649267071863\n"
     ]
    }
   ],
   "source": [
    "# testing score\n",
    "\n",
    "print(gs_knn.score(X_val, y_val))"
   ]
  },
  {
   "cell_type": "code",
   "execution_count": 18,
   "id": "f69da47b",
   "metadata": {},
   "outputs": [
    {
     "data": {
      "text/plain": [
       "array([[5283,    9],\n",
       "       [ 286,   16]])"
      ]
     },
     "execution_count": 18,
     "metadata": {},
     "output_type": "execute_result"
    }
   ],
   "source": [
    "confusion_matrix(y_val, predictions_knn)"
   ]
  },
  {
   "cell_type": "code",
   "execution_count": 19,
   "id": "d2524dcd",
   "metadata": {},
   "outputs": [],
   "source": [
    "tn_knn, fp_knn, fn_knn, tp_knn = confusion_matrix(y_val, predictions_knn).ravel()"
   ]
  },
  {
   "cell_type": "code",
   "execution_count": 20,
   "id": "36b6d436",
   "metadata": {},
   "outputs": [
    {
     "name": "stdout",
     "output_type": "stream",
     "text": [
      "True Negatives: 5283\n",
      "False Positives: 9\n",
      "False Negatives: 286\n",
      "True Positives: 16\n"
     ]
    }
   ],
   "source": [
    "print(\"True Negatives: %s\" % tn_knn)\n",
    "print(\"False Positives: %s\" % fp_knn)\n",
    "print(\"False Negatives: %s\" % fn_knn)\n",
    "print(\"True Positives: %s\" % tp_knn)"
   ]
  },
  {
   "cell_type": "code",
   "execution_count": 21,
   "id": "d6918ab6",
   "metadata": {},
   "outputs": [
    {
     "data": {
      "image/png": "[encoded data removed]",
      "text/plain": [
       "<Figure size 432x288 with 2 Axes>"
      ]
     },
     "metadata": {},
     "output_type": "display_data"
    }
   ],
   "source": [
    "# KNN confusion matrix\n",
    "\n",
    "plot_confusion_matrix(gs_knn, X_val, y_val, cmap='Oranges', \n",
    "                      values_format='d', display_labels=['1', '0']);"
   ]
  },
  {
   "cell_type": "code",
   "execution_count": 22,
   "id": "2219c004",
   "metadata": {},
   "outputs": [
    {
     "data": {
      "text/plain": [
       "0.052980132450331126"
      ]
     },
     "execution_count": 22,
     "metadata": {},
     "output_type": "execute_result"
    }
   ],
   "source": [
    "# test sensitivity of knn\n",
    "\n",
    "sens_knn = tp_knn / (tp_knn + fn_knn)\n",
    "sens_knn"
   ]
  },
  {
   "cell_type": "markdown",
   "id": "a04021e7",
   "metadata": {},
   "source": [
    "---\n",
    "---"
   ]
  },
  {
   "cell_type": "markdown",
   "id": "8066dd5f",
   "metadata": {},
   "source": [
    "### Support Vector Machine with GridSearchCV"
   ]
  },
  {
   "cell_type": "code",
   "execution_count": 23,
   "id": "0e8cd577",
   "metadata": {},
   "outputs": [],
   "source": [
    "svc = SVC()"
   ]
  },
  {
   "cell_type": "code",
   "execution_count": 24,
   "id": "b2655368",
   "metadata": {},
   "outputs": [
    {
     "name": "stdout",
     "output_type": "stream",
     "text": [
      "Support Vector Machine mean score: 0.9487\n"
     ]
    }
   ],
   "source": [
    "pre_score_svc = cross_val_score(estimator = svc,\n",
    "                            X = X_train, \n",
    "                            y = y_train,\n",
    "                            scoring = 'accuracy',\n",
    "                            cv = 10,\n",
    "                            verbose = 0)\n",
    "\n",
    "print('Support Vector Machine mean score: %5.4f' %np.mean(pre_score_svc))"
   ]
  },
  {
   "cell_type": "code",
   "execution_count": 25,
   "id": "01d0d36e",
   "metadata": {},
   "outputs": [],
   "source": [
    "# Using GridSearch to find optimum SVC value and fit \n",
    "\n",
    "\n",
    "gs_svc = GridSearchCV(estimator=SVC(),\n",
    "             param_grid={'C': [0.1, 1], 'kernel': ['linear']})\n",
    "gs_svc.fit(X_train,y_train);\n",
    "\n",
    "\n"
   ]
  },
  {
   "cell_type": "code",
   "execution_count": 26,
   "id": "44f56d98",
   "metadata": {},
   "outputs": [
    {
     "name": "stdout",
     "output_type": "stream",
     "text": [
      "SVC best parameter: {'C': 0.1, 'kernel': 'linear'}\n"
     ]
    }
   ],
   "source": [
    "# check svc best parameter\n",
    "\n",
    "print(f'SVC best parameter: {gs_svc.best_params_}')"
   ]
  },
  {
   "cell_type": "code",
   "execution_count": 27,
   "id": "7aa3cb11",
   "metadata": {},
   "outputs": [
    {
     "name": "stdout",
     "output_type": "stream",
     "text": [
      "SVC best score: 0.9471644929019295\n"
     ]
    }
   ],
   "source": [
    "# gridsearch best score\n",
    "\n",
    "print(f'SVC best score: {gs_svc.best_score_}')"
   ]
  },
  {
   "cell_type": "code",
   "execution_count": 28,
   "id": "06b4aad2",
   "metadata": {},
   "outputs": [],
   "source": [
    "# predictions \n",
    "\n",
    "predictions_svc = gs_svc.predict(X_val)"
   ]
  },
  {
   "cell_type": "code",
   "execution_count": 29,
   "id": "15f56c9c",
   "metadata": {},
   "outputs": [
    {
     "name": "stdout",
     "output_type": "stream",
     "text": [
      "0.947076435364565\n"
     ]
    }
   ],
   "source": [
    "# training score\n",
    "\n",
    "print(gs_svc.score(X_train, y_train))"
   ]
  },
  {
   "cell_type": "code",
   "execution_count": 30,
   "id": "ffbc4588",
   "metadata": {},
   "outputs": [
    {
     "name": "stdout",
     "output_type": "stream",
     "text": [
      "0.9458348230246693\n"
     ]
    }
   ],
   "source": [
    "# testing score\n",
    "\n",
    "print(gs_svc.score(X_val, y_val))"
   ]
  },
  {
   "cell_type": "code",
   "execution_count": 31,
   "id": "c7c3b77a",
   "metadata": {},
   "outputs": [
    {
     "data": {
      "text/plain": [
       "array([[5290,    2],\n",
       "       [ 301,    1]])"
      ]
     },
     "execution_count": 31,
     "metadata": {},
     "output_type": "execute_result"
    }
   ],
   "source": [
    "confusion_matrix(y_val, predictions_svc)"
   ]
  },
  {
   "cell_type": "code",
   "execution_count": 32,
   "id": "757af9f9",
   "metadata": {},
   "outputs": [],
   "source": [
    "tn_svc, fp_svc, fn_svc, tp_svc = confusion_matrix(y_val, predictions_svc).ravel()"
   ]
  },
  {
   "cell_type": "code",
   "execution_count": 33,
   "id": "b72523e8",
   "metadata": {},
   "outputs": [
    {
     "name": "stdout",
     "output_type": "stream",
     "text": [
      "True Negatives: 5290\n",
      "False Positives: 2\n",
      "False Negatives: 301\n",
      "True Positives: 1\n"
     ]
    }
   ],
   "source": [
    "print(\"True Negatives: %s\" % tn_svc)\n",
    "print(\"False Positives: %s\" % fp_svc)\n",
    "print(\"False Negatives: %s\" % fn_svc)\n",
    "print(\"True Positives: %s\" % tp_svc)"
   ]
  },
  {
   "cell_type": "code",
   "execution_count": 34,
   "id": "d336593b",
   "metadata": {},
   "outputs": [
    {
     "data": {
      "image/png": "[encoded data removed]",
      "text/plain": [
       "<Figure size 432x288 with 2 Axes>"
      ]
     },
     "metadata": {},
     "output_type": "display_data"
    }
   ],
   "source": [
    "# SVC confusion matrix\n",
    "\n",
    "plot_confusion_matrix(gs_svc, X_val, y_val, cmap='Blues', \n",
    "                      values_format='d', display_labels=['1', '0']);"
   ]
  },
  {
   "cell_type": "code",
   "execution_count": 35,
   "id": "ed320f12",
   "metadata": {},
   "outputs": [
    {
     "data": {
      "text/plain": [
       "0.0033112582781456954"
      ]
     },
     "execution_count": 35,
     "metadata": {},
     "output_type": "execute_result"
    }
   ],
   "source": [
    "# test sensitivity of svc\n",
    "\n",
    "sens_svc = tp_svc / (tp_svc + fn_svc)\n",
    "sens_svc"
   ]
  },
  {
   "cell_type": "markdown",
   "id": "c3388a1b",
   "metadata": {},
   "source": [
    "---\n",
    "---"
   ]
  },
  {
   "cell_type": "markdown",
   "id": "451d110d",
   "metadata": {},
   "source": [
    "### Logistic regression with GridSearchGV"
   ]
  },
  {
   "cell_type": "code",
   "execution_count": 36,
   "id": "803fa039",
   "metadata": {},
   "outputs": [],
   "source": [
    "#Setting a pipeline for Logistic Regression (estimator)\n",
    "pipe_lr= Pipeline([\n",
    "                (\"lr\", LogisticRegression())])"
   ]
  },
  {
   "cell_type": "code",
   "execution_count": 37,
   "id": "51fcd76a",
   "metadata": {},
   "outputs": [],
   "source": [
    "#Defining the parameters to gridsearch\n",
    "param_lr = {\n",
    "    \"lr__penalty\" : ['l2'],\n",
    "    'lr__C' : np.logspace(-5,0,5),\n",
    "    'lr__class_weight' : ['balanced', None],\n",
    "    'lr__solver' : ['liblinear', \"lbfgs\"],\n",
    "    \"lr__max_iter\": [1000]\n",
    "}\n"
   ]
  },
  {
   "cell_type": "code",
   "execution_count": 38,
   "id": "48d143e8",
   "metadata": {},
   "outputs": [],
   "source": [
    "# Instantiate GridSearchCV.\n",
    "gs_lr = GridSearchCV(pipe_lr, param_grid = param_lr, cv = 5, verbose = 1)"
   ]
  },
  {
   "cell_type": "code",
   "execution_count": 39,
   "id": "793feb4e",
   "metadata": {},
   "outputs": [
    {
     "name": "stdout",
     "output_type": "stream",
     "text": [
      "Fitting 5 folds for each of 20 candidates, totalling 100 fits\n"
     ]
    },
    {
     "data": {
      "text/plain": [
       "GridSearchCV(cv=5, estimator=Pipeline(steps=[('lr', LogisticRegression())]),\n",
       "             param_grid={'lr__C': array([1.00000000e-05, 1.77827941e-04, 3.16227766e-03, 5.62341325e-02,\n",
       "       1.00000000e+00]),\n",
       "                         'lr__class_weight': ['balanced', None],\n",
       "                         'lr__max_iter': [1000], 'lr__penalty': ['l2'],\n",
       "                         'lr__solver': ['liblinear', 'lbfgs']},\n",
       "             verbose=1)"
      ]
     },
     "execution_count": 39,
     "metadata": {},
     "output_type": "execute_result"
    }
   ],
   "source": [
    "#Fitting pipeline to our training set\n",
    "gs_lr.fit(X_train, y_train)"
   ]
  },
  {
   "cell_type": "code",
   "execution_count": 40,
   "id": "4ce19417",
   "metadata": {},
   "outputs": [
    {
     "name": "stdout",
     "output_type": "stream",
     "text": [
      "GridSearch Best Params for Logistic Regression: {'lr__C': 1.0, 'lr__class_weight': None, 'lr__max_iter': 1000, 'lr__penalty': 'l2', 'lr__solver': 'liblinear'}\n",
      "Score on train set: 0.9488376188798873\n",
      "Score on test set: 0.9479799785484447\n"
     ]
    }
   ],
   "source": [
    "print(f'GridSearch Best Params for Logistic Regression: {gs_lr.best_params_}')\n",
    "print('Score on train set:', gs_lr.score(X_train, y_train))\n",
    "print('Score on test set:', gs_lr.score(X_val, y_val))"
   ]
  },
  {
   "cell_type": "code",
   "execution_count": 41,
   "id": "69cccf52",
   "metadata": {},
   "outputs": [],
   "source": [
    "# Get predictions\n",
    "preds_lr = gs_lr.predict(X_val)"
   ]
  },
  {
   "cell_type": "code",
   "execution_count": 42,
   "id": "d70dad92",
   "metadata": {},
   "outputs": [
    {
     "data": {
      "text/plain": [
       "array([[5280,   12],\n",
       "       [ 279,   23]])"
      ]
     },
     "execution_count": 42,
     "metadata": {},
     "output_type": "execute_result"
    }
   ],
   "source": [
    "confusion_matrix(y_val, preds_lr)"
   ]
  },
  {
   "cell_type": "code",
   "execution_count": 43,
   "id": "7b583025",
   "metadata": {},
   "outputs": [
    {
     "name": "stdout",
     "output_type": "stream",
     "text": [
      "True Negatives: 5280\n",
      "False Positives: 12\n",
      "False Negatives: 279\n",
      "True Positives: 23\n"
     ]
    }
   ],
   "source": [
    "tn_lr, fp_lr, fn_lr, tp_lr = confusion_matrix(y_val, preds_lr).ravel()\n",
    "print(\"True Negatives: %s\" % tn_lr)\n",
    "print(\"False Positives: %s\" % fp_lr)\n",
    "print(\"False Negatives: %s\" % fn_lr)\n",
    "print(\"True Positives: %s\" % tp_lr)"
   ]
  },
  {
   "cell_type": "code",
   "execution_count": 44,
   "id": "2a7a5295",
   "metadata": {},
   "outputs": [
    {
     "data": {
      "image/png": "[encoded data removed]",
      "text/plain": [
       "<Figure size 432x288 with 2 Axes>"
      ]
     },
     "metadata": {},
     "output_type": "display_data"
    }
   ],
   "source": [
    "# Lr confusion matrix\n",
    "\n",
    "plot_confusion_matrix(gs_lr, X_val, y_val, cmap='Greens', \n",
    "                      values_format='d', display_labels=['1', '0']);"
   ]
  },
  {
   "cell_type": "code",
   "execution_count": 45,
   "id": "8b307328",
   "metadata": {},
   "outputs": [
    {
     "data": {
      "text/plain": [
       "0.076158940397351"
      ]
     },
     "execution_count": 45,
     "metadata": {},
     "output_type": "execute_result"
    }
   ],
   "source": [
    "# test sensitivity of lr\n",
    "\n",
    "sens_lr = tp_lr / (tp_lr + fn_lr)\n",
    "sens_lr"
   ]
  },
  {
   "cell_type": "markdown",
   "id": "01fae3f9",
   "metadata": {},
   "source": [
    "---\n",
    "---"
   ]
  },
  {
   "cell_type": "markdown",
   "id": "10607d0e",
   "metadata": {},
   "source": [
    "### Random forest with GridSearchCV"
   ]
  },
  {
   "cell_type": "code",
   "execution_count": 46,
   "id": "9679c347",
   "metadata": {},
   "outputs": [],
   "source": [
    "#Setting a pipeline for Random forest (estimator)\n",
    "pipe_rf= Pipeline([\n",
    "                (\"rf\", RandomForestClassifier())])"
   ]
  },
  {
   "cell_type": "code",
   "execution_count": 47,
   "id": "1640f4cc",
   "metadata": {},
   "outputs": [],
   "source": [
    "#Defining the parameters to gridsearch\n",
    "param_rf = {\n",
    "   'rf__n_estimators': [10, 20, 50, 100, 150, 200],\n",
    "    'rf__max_depth': [5, 10, 15, 20, 25],\n",
    "    'rf__min_samples_leaf': [2, 5, 10],\n",
    "    'rf__class_weight' : ['balanced', 'balanced_subsample']\n",
    "}\n"
   ]
  },
  {
   "cell_type": "code",
   "execution_count": 48,
   "id": "2b036711",
   "metadata": {},
   "outputs": [],
   "source": [
    "# Instantiate GridSearchCV.\n",
    "gs_rf = GridSearchCV(pipe_rf, param_grid = param_rf, cv = 5, verbose = 1)"
   ]
  },
  {
   "cell_type": "code",
   "execution_count": 49,
   "id": "fd756f9b",
   "metadata": {},
   "outputs": [
    {
     "name": "stdout",
     "output_type": "stream",
     "text": [
      "Fitting 5 folds for each of 180 candidates, totalling 900 fits\n"
     ]
    },
    {
     "data": {
      "text/plain": [
       "GridSearchCV(cv=5, estimator=Pipeline(steps=[('rf', RandomForestClassifier())]),\n",
       "             param_grid={'rf__class_weight': ['balanced', 'balanced_subsample'],\n",
       "                         'rf__max_depth': [5, 10, 15, 20, 25],\n",
       "                         'rf__min_samples_leaf': [2, 5, 10],\n",
       "                         'rf__n_estimators': [10, 20, 50, 100, 150, 200]},\n",
       "             verbose=1)"
      ]
     },
     "execution_count": 49,
     "metadata": {},
     "output_type": "execute_result"
    }
   ],
   "source": [
    "#Fitting pipeline to our training set\n",
    "gs_rf.fit(X_train, y_train)"
   ]
  },
  {
   "cell_type": "code",
   "execution_count": 50,
   "id": "d4cfc840",
   "metadata": {},
   "outputs": [
    {
     "name": "stdout",
     "output_type": "stream",
     "text": [
      "GridSearch Best Params for Random Forest: {'rf__class_weight': 'balanced', 'rf__max_depth': 25, 'rf__min_samples_leaf': 2, 'rf__n_estimators': 200}\n",
      "Score on train set: 0.9959492779147587\n",
      "Score on test set: 0.956381837683232\n"
     ]
    }
   ],
   "source": [
    "print(f'GridSearch Best Params for Random Forest: {gs_rf.best_params_}')\n",
    "print('Score on train set:', gs_rf.score(X_train, y_train))\n",
    "print('Score on test set:', gs_rf.score(X_val, y_val))"
   ]
  },
  {
   "cell_type": "code",
   "execution_count": 51,
   "id": "2c6463ae",
   "metadata": {},
   "outputs": [],
   "source": [
    "# Get predictions\n",
    "preds_rf = gs_rf.predict(X_val)"
   ]
  },
  {
   "cell_type": "code",
   "execution_count": 52,
   "id": "0fb42205",
   "metadata": {},
   "outputs": [
    {
     "data": {
      "text/plain": [
       "array([[5231,   61],\n",
       "       [ 183,  119]])"
      ]
     },
     "execution_count": 52,
     "metadata": {},
     "output_type": "execute_result"
    }
   ],
   "source": [
    "confusion_matrix(y_val, preds_rf)"
   ]
  },
  {
   "cell_type": "code",
   "execution_count": 53,
   "id": "f938995f",
   "metadata": {},
   "outputs": [
    {
     "name": "stdout",
     "output_type": "stream",
     "text": [
      "True Negatives: 5231\n",
      "False Positives: 61\n",
      "False Negatives: 183\n",
      "True Positives: 119\n"
     ]
    }
   ],
   "source": [
    "tn_rf, fp_rf, fn_rf, tp_rf = confusion_matrix(y_val, preds_rf).ravel()\n",
    "print(\"True Negatives: %s\" % tn_rf)\n",
    "print(\"False Positives: %s\" % fp_rf)\n",
    "print(\"False Negatives: %s\" % fn_rf)\n",
    "print(\"True Positives: %s\" % tp_rf)"
   ]
  },
  {
   "cell_type": "code",
   "execution_count": 54,
   "id": "3abf5255",
   "metadata": {},
   "outputs": [
    {
     "data": {
      "image/png": "[encoded data removed]",
      "text/plain": [
       "<Figure size 432x288 with 2 Axes>"
      ]
     },
     "metadata": {},
     "output_type": "display_data"
    }
   ],
   "source": [
    "# Random Forest confusion matrix\n",
    "\n",
    "plot_confusion_matrix(gs_rf, X_val, y_val, cmap='Greens', \n",
    "                      values_format='d', display_labels=['1', '0']);"
   ]
  },
  {
   "cell_type": "code",
   "execution_count": 55,
   "id": "1545737e",
   "metadata": {},
   "outputs": [
    {
     "data": {
      "text/plain": [
       "0.39403973509933776"
      ]
     },
     "execution_count": 55,
     "metadata": {},
     "output_type": "execute_result"
    }
   ],
   "source": [
    "# test sensitivity of rf\n",
    "\n",
    "sens_rf = tp_rf / (tp_rf + fn_rf)\n",
    "sens_rf"
   ]
  },
  {
   "cell_type": "markdown",
   "id": "56b43a26",
   "metadata": {},
   "source": [
    "### Extra Trees with GridSearchCV"
   ]
  },
  {
   "cell_type": "code",
   "execution_count": 56,
   "id": "9939d9e2",
   "metadata": {},
   "outputs": [],
   "source": [
    "#Setting a pipeline for Extra Trees (estimator)\n",
    "pipe_et= Pipeline([\n",
    "                (\"et\", ExtraTreesClassifier())])"
   ]
  },
  {
   "cell_type": "code",
   "execution_count": 57,
   "id": "3672ed81",
   "metadata": {},
   "outputs": [],
   "source": [
    "#Defining the parameters to gridsearch\n",
    "param_et = {\n",
    "    'et__n_estimators': [10, 20, 50, 100, 150, 200],\n",
    "    'et__max_depth': [2, 3, 4, 5, 10, 20],\n",
    "    'et__min_samples_leaf': [2, 5, 10],\n",
    "    'et__class_weight' : ['balanced', 'balanced_subsample']\n",
    "}\n"
   ]
  },
  {
   "cell_type": "code",
   "execution_count": 58,
   "id": "ff4aaec7",
   "metadata": {},
   "outputs": [],
   "source": [
    "# Instantiate GridSearchCV.\n",
    "gs_et = GridSearchCV(pipe_et, param_grid = param_et, cv = 5, verbose = 1)"
   ]
  },
  {
   "cell_type": "code",
   "execution_count": 59,
   "id": "54787f0c",
   "metadata": {},
   "outputs": [
    {
     "name": "stdout",
     "output_type": "stream",
     "text": [
      "Fitting 5 folds for each of 216 candidates, totalling 1080 fits\n"
     ]
    },
    {
     "data": {
      "text/plain": [
       "GridSearchCV(cv=5, estimator=Pipeline(steps=[('et', ExtraTreesClassifier())]),\n",
       "             param_grid={'et__class_weight': ['balanced', 'balanced_subsample'],\n",
       "                         'et__max_depth': [2, 3, 4, 5, 10, 20],\n",
       "                         'et__min_samples_leaf': [2, 5, 10],\n",
       "                         'et__n_estimators': [10, 20, 50, 100, 150, 200]},\n",
       "             verbose=1)"
      ]
     },
     "execution_count": 59,
     "metadata": {},
     "output_type": "execute_result"
    }
   ],
   "source": [
    "gs_et.fit(X_train, y_train)"
   ]
  },
  {
   "cell_type": "code",
   "execution_count": 60,
   "id": "207b830d",
   "metadata": {},
   "outputs": [
    {
     "name": "stdout",
     "output_type": "stream",
     "text": [
      "GridSearch Best Params for Extra Trees: {'et__class_weight': 'balanced', 'et__max_depth': 20, 'et__min_samples_leaf': 2, 'et__n_estimators': 200}\n",
      "Score on train set: 0.9502465656921452\n",
      "Score on test set: 0.9090096531998569\n"
     ]
    }
   ],
   "source": [
    "print(f'GridSearch Best Params for Extra Trees: {gs_et.best_params_}')\n",
    "print('Score on train set:', gs_et.score(X_train, y_train))\n",
    "print('Score on test set:', gs_et.score(X_val, y_val))"
   ]
  },
  {
   "cell_type": "code",
   "execution_count": 61,
   "id": "89fac05b",
   "metadata": {},
   "outputs": [],
   "source": [
    "# Get predictions\n",
    "preds_et = gs_et.predict(X_val)"
   ]
  },
  {
   "cell_type": "code",
   "execution_count": 62,
   "id": "f6b63cb7",
   "metadata": {},
   "outputs": [
    {
     "data": {
      "text/plain": [
       "array([[4901,  391],\n",
       "       [ 118,  184]])"
      ]
     },
     "execution_count": 62,
     "metadata": {},
     "output_type": "execute_result"
    }
   ],
   "source": [
    "confusion_matrix(y_val, preds_et)"
   ]
  },
  {
   "cell_type": "code",
   "execution_count": 63,
   "id": "73a8dc8e",
   "metadata": {},
   "outputs": [
    {
     "name": "stdout",
     "output_type": "stream",
     "text": [
      "True Negatives: 4901\n",
      "False Positives: 391\n",
      "False Negatives: 118\n",
      "True Positives: 184\n"
     ]
    }
   ],
   "source": [
    "tn_et, fp_et, fn_et, tp_et = confusion_matrix(y_val, preds_et).ravel()\n",
    "print(\"True Negatives: %s\" % tn_et)\n",
    "print(\"False Positives: %s\" % fp_et)\n",
    "print(\"False Negatives: %s\" % fn_et)\n",
    "print(\"True Positives: %s\" % tp_et)"
   ]
  },
  {
   "cell_type": "code",
   "execution_count": 64,
   "id": "c8200a11",
   "metadata": {},
   "outputs": [
    {
     "data": {
      "image/png": "[encoded data removed]",
      "text/plain": [
       "<Figure size 432x288 with 2 Axes>"
      ]
     },
     "metadata": {},
     "output_type": "display_data"
    }
   ],
   "source": [
    "# Extra Trees confusion matrix\n",
    "\n",
    "plot_confusion_matrix(gs_et, X_val, y_val, cmap='Greens', \n",
    "                      values_format='d', display_labels=['1', '0']);"
   ]
  },
  {
   "cell_type": "code",
   "execution_count": 65,
   "id": "356c2ec1",
   "metadata": {},
   "outputs": [
    {
     "data": {
      "text/plain": [
       "0.609271523178808"
      ]
     },
     "execution_count": 65,
     "metadata": {},
     "output_type": "execute_result"
    }
   ],
   "source": [
    "# test sensitivity of et\n",
    "\n",
    "sens_et = tp_et / (tp_et + fn_et)\n",
    "sens_et"
   ]
  },
  {
   "cell_type": "markdown",
   "id": "0d6f141b",
   "metadata": {},
   "source": [
    "## <span style=\"color:teal\"> 2) Modelling Summary and Selection</span>"
   ]
  },
  {
   "cell_type": "markdown",
   "id": "8037d42c",
   "metadata": {},
   "source": [
    "**Summary table for Models**\n",
    "\n",
    "| Model| Train Accuracy|Test Accuracy|   Sensitivity | Baseline acc|True Pos |False Pos|False Neg|True Pos|\n",
    "|:---------:|:---:|:--------:|:-------:|:----------:|:-----:|:----------:|:-----:|:-------:|\n",
    "KNearest Neighbours|1.0|0.9476|0.0563|0.0539|5284|8|285|17|\n",
    "Support Vector Machine|0.9471|0.9458|0.0033|0.0539|5290|8|301|1|\n",
    "Logistic Regression|0.9488|0.9480|0.0762|0.0539|5280|12|279|23|\n",
    "Random Forest| 0.9957|0.9544|0.4172|0.0539|5213|79|176|126|\n",
    "Extra Trees| 0.9521|0.9097|0.6126|0.0539|4904|388|117|185|"
   ]
  },
  {
   "cell_type": "markdown",
   "id": "8a0f068c",
   "metadata": {},
   "source": [
    "In evaluating the models using the various evaluation metrics, we typically rely on the following: \n",
    "\n",
    "|Metric| Definition | Scale|\n",
    "|---|---|---|\n",
    "|Accuracy|Percentage of observations predicted correctly|0-1|\n",
    "|Misclassification rate| Percentage of observations predicted wrongly|0-1|\n",
    "|Specificity|Proportion of actual negatives, which got predicted as the negative |0-1|\n",
    "|Sensitivity (aka recall)|Proportion of actual positive cases that got predicted as positive |0-1|\n",
    "|Precision|Ratio between True Positives and all the Positives.|0-1|\n",
    "\n",
    "For the purpose of our classification problem, we will mainly be focusing on accuracy since our intent is to correctly identify the presence of the West Nile Virus. That said, we are also interested in lowering the chances of false positive (i.e. sensitivity, proportion of actual WNV positive cases that got predicted as positive). \n",
    "\n",
    "Taking this two metrics into consideration, we have chosen Random Forest (out of all our models) as it has the highest test accuracy score and a decent sensitivity score. We next plot the ROC curve for our chosen model (i.e. Random Forest).\n"
   ]
  },
  {
   "cell_type": "markdown",
   "id": "247e35bc",
   "metadata": {},
   "source": [
    "### ROC Curve"
   ]
  },
  {
   "cell_type": "code",
   "execution_count": 66,
   "id": "de88ad16",
   "metadata": {},
   "outputs": [
    {
     "name": "stdout",
     "output_type": "stream",
     "text": [
      "Random Forest ROC_AUC Score: 0.9422334975196848\n"
     ]
    }
   ],
   "source": [
    "preds_rf = gs_rf.predict_proba(X_val)[:,1]\n",
    "roc_rf = roc_auc_score(y_val, preds_rf)\n",
    "print(f'Random Forest ROC_AUC Score:', roc_rf)"
   ]
  },
  {
   "cell_type": "code",
   "execution_count": 67,
   "id": "3f4c7069",
   "metadata": {},
   "outputs": [],
   "source": [
    "def roc(probas, true, step=0.01):\n",
    "    \"\"\"\n",
    "    probas should be a numpy array of predict_probas\n",
    "    true is a pandas series of true labels\n",
    "    step is the step size for checking thresholds\n",
    "    \"\"\"\n",
    "    \n",
    "    probas = probas[:,1]  # The output of predict_proba() is an array of the probabilities for every class, but we only want the probabilities for class 1\n",
    "    true = true.values    # We need to convert the class labels from a Pandas Series to a numpy array. We do this using the .values attribute\n",
    "    assert(len(probas) == len(true)) # We're making sure that our probabilities vector is the same length as our true class labesl vector\n",
    "    \n",
    "    TPRs = [] # Setting up empty list of True Positive Rate\n",
    "    FPRs = [] # Setting up empty list of False Positive Rate\n",
    "    \n",
    "    for i in np.arange(0.0,1.0,step): # np.arange allows us to use step sizes that are decimals\n",
    "        preds_class = probas > i # Numpy arrays have a feature called 'broadcasting.' Check the documentation: https://docs.scipy.org/doc/numpy-1.13.0/user/basics.broadcasting.html to see what this does.\n",
    "        TP = 0 \n",
    "        FP = 0\n",
    "        TN = 0\n",
    "        FN = 0\n",
    "        for index in range(len(preds_class)): # We're comparing each prediction with each true value here\n",
    "\n",
    "            if preds_class[index] == 1 and true[index] == 1:\n",
    "                TP += 1\n",
    "            elif preds_class[index] == 1 and true[index] == 0:\n",
    "                FP += 1\n",
    "            elif preds_class[index] == 0 and true[index] == 0:\n",
    "                TN += 1 \n",
    "            elif preds_class[index] == 0 and true[index] == 1:\n",
    "                FN += 1\n",
    "                \n",
    "        TPR = TP/(TP + FN) # Calculating TPR and FPR and appending to our lists\n",
    "        FPR = FP/(FP + TN)\n",
    "        \n",
    "        TPRs.append(TPR)\n",
    "        FPRs.append(FPR)\n",
    "         \n",
    "    plt.figure(figsize=(10,10))\n",
    "    plt.rcParams['font.size'] = 14\n",
    "    plt.plot(FPRs, TPRs, color=\"orange\", label='ROC Curve')\n",
    "    plt.plot([0,1],[0,1], color='navy', lw=2, linestyle='--', label='Baseline')\n",
    "    plt.xlim([0.0, 1.0])\n",
    "    plt.ylim([0.0, 1.0])\n",
    "    plt.title('Receiver Operating Characteristic')\n",
    "    plt.xlabel(\"False Positive Rate (1 - Specificity)\")\n",
    "    plt.ylabel(\"True Positive Rate (Sensitivity)\")\n",
    "    plt.legend()\n",
    "    plt.show();"
   ]
  },
  {
   "cell_type": "code",
   "execution_count": null,
   "id": "9166487a",
   "metadata": {},
   "outputs": [],
   "source": [
    "probabilities = gs_rf.predict_proba(X_val)\n",
    "\n",
    "roc(probas = probabilities, # pass in series of probabilities \n",
    "    true = y_val,          # pass in series of true values\n",
    "    step=0.001);"
   ]
  },
  {
   "cell_type": "markdown",
   "id": "06da78fd",
   "metadata": {},
   "source": [
    "The ROC curve has a decently smooth curve, with the apex of the curve appearing to between a sensitivity range of 0.8 to 0.9. Hence, this apex would be the best point of probability to detect whether or not the West Nile Virus is present."
   ]
  },
  {
   "cell_type": "code",
   "execution_count": null,
   "id": "e43af1f0",
   "metadata": {},
   "outputs": [],
   "source": [
    "# Reinstate X & Y\n",
    "X = train_weather1\n",
    "y = train_weather[\"wnvpresent\"]"
   ]
  },
  {
   "cell_type": "code",
   "execution_count": null,
   "id": "103c8635",
   "metadata": {},
   "outputs": [],
   "source": [
    "# split the data into the training and testing sets\n",
    "\n",
    "X_train, X_val, y_train, y_val = train_test_split(X,y,\n",
    "                                                    test_size=0.33,\n",
    "                                                    stratify=y,\n",
    "                                                    random_state=42\n",
    "                                                    )"
   ]
  },
  {
   "cell_type": "code",
   "execution_count": null,
   "id": "3a30881b",
   "metadata": {},
   "outputs": [],
   "source": [
    "# standard scaler applied\n",
    "\n",
    "ss = StandardScaler()\n",
    "ss.fit(X_train)\n",
    "X_train = ss.transform(X_train)\n",
    "X_val = ss.transform(X_val)\n",
    "test_kaggle = ss.transform(test_weather)\n"
   ]
  },
  {
   "cell_type": "code",
   "execution_count": null,
   "id": "a3fbcdbb",
   "metadata": {},
   "outputs": [],
   "source": [
    "#Setting a pipeline for Random forest (estimator)\n",
    "pipe_rf= Pipeline([\n",
    "                (\"rf\", RandomForestClassifier())])"
   ]
  },
  {
   "cell_type": "code",
   "execution_count": null,
   "id": "3ddbe876",
   "metadata": {},
   "outputs": [],
   "source": [
    "# Using best params\n",
    "param_rf = {\n",
    "   'rf__n_estimators': [150],\n",
    "    'rf__max_depth': [25],\n",
    "    'rf__min_samples_leaf': [2],\n",
    "    'rf__class_weight' : ['balanced_subsample']\n",
    "}\n"
   ]
  },
  {
   "cell_type": "code",
   "execution_count": null,
   "id": "4cced876",
   "metadata": {},
   "outputs": [],
   "source": [
    "# Instantiate GridSearchCV.\n",
    "gs_rf = GridSearchCV(pipe_rf, param_grid = param_rf, cv = 5, verbose = 1)"
   ]
  },
  {
   "cell_type": "code",
   "execution_count": null,
   "id": "3e1f0804",
   "metadata": {},
   "outputs": [],
   "source": [
    "#Fitting pipeline to our training set\n",
    "gs_rf.fit(X_train, y_train)"
   ]
  },
  {
   "cell_type": "code",
   "execution_count": null,
   "id": "5fd4ba52",
   "metadata": {},
   "outputs": [],
   "source": [
    "print('Score on train set:', gs_rf.score(X_train, y_train))\n",
    "print('Score on test set:', gs_rf.score(X_val, y_val))"
   ]
  },
  {
   "cell_type": "code",
   "execution_count": null,
   "id": "006dd3d4",
   "metadata": {},
   "outputs": [],
   "source": [
    "# Get predictions\n",
    "preds_rf = gs_rf.predict(X_val)"
   ]
  },
  {
   "cell_type": "code",
   "execution_count": null,
   "id": "e36bdc41",
   "metadata": {},
   "outputs": [],
   "source": [
    "features = pd.DataFrame({\n",
    "    'features': X.columns,\n",
    "    'importances': gs_rf.best_estimator_._final_estimator.feature_importances_})\n",
    "fig = features.sort_values(by='importances', ascending=True).iloc[:30]\n",
    "fig.plot(kind='barh', figsize=(10,9))\n",
    "plt.yticks(range(len(fig)),fig['features'])\n",
    "plt.show()"
   ]
  },
  {
   "cell_type": "markdown",
   "id": "e44e070a",
   "metadata": {},
   "source": [
    "The table above illustrates the key features that predict the presence of the west Nile Virus (i.e. number of mosquitoes has the highest predictive power while selected species of mosquitoes have the lowest)."
   ]
  },
  {
   "cell_type": "markdown",
   "id": "b9f7d843",
   "metadata": {},
   "source": [
    "---\n",
    "---"
   ]
  },
  {
   "cell_type": "markdown",
   "id": "0ff2454a",
   "metadata": {},
   "source": [
    "### Kaggle Submission"
   ]
  },
  {
   "cell_type": "markdown",
   "id": "b028cfb1",
   "metadata": {},
   "source": [
    "As Random Forests had the highest accuracy score, that's the model we have used for Kaggle submission"
   ]
  },
  {
   "cell_type": "code",
   "execution_count": null,
   "id": "38a3af91",
   "metadata": {},
   "outputs": [],
   "source": [
    "# Get predictions\n",
    "preds_rf_kaggle = gs_rf.predict(test_weather)"
   ]
  },
  {
   "cell_type": "code",
   "execution_count": null,
   "id": "47531e9c",
   "metadata": {},
   "outputs": [],
   "source": [
    "preds_rf_kaggle"
   ]
  },
  {
   "cell_type": "code",
   "execution_count": null,
   "id": "7086dea5",
   "metadata": {},
   "outputs": [],
   "source": [
    "my_submission1= pd.DataFrame({'Id': test_weather1.id, 'WnvPresent': preds_rf_kaggle})"
   ]
  },
  {
   "cell_type": "code",
   "execution_count": null,
   "id": "ad3b4240",
   "metadata": {},
   "outputs": [],
   "source": [
    "my_submission1 = my_submission1.drop_duplicates(keep='first')"
   ]
  },
  {
   "cell_type": "code",
   "execution_count": null,
   "id": "404bebf0",
   "metadata": {},
   "outputs": [],
   "source": [
    "my_submission1.to_csv('./assets/my_submission1', index=False)"
   ]
  },
  {
   "cell_type": "code",
   "execution_count": null,
   "id": "5fb1ac1b",
   "metadata": {},
   "outputs": [],
   "source": [
    "my_submission1"
   ]
  },
  {
   "cell_type": "markdown",
   "id": "28ab8918",
   "metadata": {},
   "source": [
    "### Kaggle submission image"
   ]
  },
  {
   "cell_type": "markdown",
   "id": "d0fc0127",
   "metadata": {},
   "source": [
    "<img src=\"./image/kagglesubmission.jpg\" width=\"1000\" height=\"50\">"
   ]
  },
  {
   "cell_type": "markdown",
   "id": "b21c6598",
   "metadata": {},
   "source": [
    "---\n",
    "---"
   ]
  },
  {
   "cell_type": "markdown",
   "id": "b6023ad6",
   "metadata": {},
   "source": [
    "## <span style=\"color:teal\"> 3) Cost-Benefit Analysis</span>"
   ]
  },
  {
   "cell_type": "markdown",
   "id": "281c57ff",
   "metadata": {},
   "source": [
    "### Cost for spraying the whole of Chicago:\n",
    "\n",
    "Based on external research, we found that: \n",
    "- Spraying typically takes place around 8pm until 1am using trucks which dispense an ultra-low-volume spray [*(Source: Chicago city website)*](https://www.chicago.gov/city/en/depts/cdph/provdrs/healthy_communities/news/2020/aug[…]t/city-to-spray-insecticide-thursday-to-kill-mosquitoes0.html). With the spraying done at odd hours, the chances of human interaction with the insectide are greatly reduced.\n",
    "-Spray rate is about 1.5 ounces per acre [*(Source: ABC7Chicago)*](https://abc7chicago.com/archive/9206273/)\n",
    "- Cost per gallon (128 ounces) of Zenivex (i.e. insecticide used) is approximately USD300 [*(Source)*](http://www.gfmosquito.com/wp-content/uploads/2017/07/2017-ND-Mosq.-Control-Quotes-Tabulation.pdf)\n",
    "- Size on entire chicago is about 149,800 acres in area\n",
    "\n",
    "Assuming that we want to spray the whole of Chicago,(with an area of 149800 acres) we will need:\n",
    "#### spray amount = 149800/1.5 => 99866.67\n",
    "#### spray amount in gallons= 99866.67/128 => 780.21\n",
    "#### cost of procuring Zenivex = 780.21*300 => $234,062 (for spraying the whole of Chicago once)\n",
    "\n",
    "If we want to spray the whole of Chicago once every fortnightly for a duration of 6 months (including the summer months), this works out to be: \n",
    "\n",
    "#### Annual spray cost =  $2,808,744 (i.e. 234,062 * 12)"
   ]
  },
  {
   "cell_type": "markdown",
   "id": "5fd0ff74",
   "metadata": {},
   "source": [
    "---\n",
    "---"
   ]
  },
  {
   "cell_type": "markdown",
   "id": "107f352f",
   "metadata": {},
   "source": [
    "The table below shows the total number of WNV cases reported in USA over the years from 1999 to 2019. These numbers can be significant especially when taking into consideration the nature of the virus. Several cases reported are not severe however, there are a substantial amount that result in neurological symptoms which can have long-term costs. Not forgetting, the significant hospitalisation costs which is seen in the next table. "
   ]
  },
  {
   "cell_type": "markdown",
   "id": "706b1bf2",
   "metadata": {},
   "source": [
    "**Total Cases in USA Reported from 1999-2019**\n",
    "\n",
    "| Year | Total Cases Reported (USA)\n",
    "|:---------:|:---:|\n",
    "|1999|59|\n",
    "|2000|19|\n",
    "|2001|64|\n",
    "|2002|2946|\n",
    "|2003|2866|\n",
    "|3004|1148|\n",
    "|2005|1309|\n",
    "|2006|1495|\n",
    "|2007|1227|\n",
    "|2008|689|\n",
    "|2009|386|\n",
    "|2010|629|\n",
    "|2011|486|\n",
    "|2012|2873|\n",
    "|2013|1267|\n",
    "|2014|1347|\n",
    "|2015|1455|\n",
    "|2016|1309|\n",
    "|2017|1425|\n",
    "|2018|1658|\n",
    "|2019|633|\n",
    "|Total|25290|\n",
    "\n",
    "[*source*](https://www.cdc.gov/westnile/statsmaps/cumMapsData.html#one)"
   ]
  },
  {
   "cell_type": "markdown",
   "id": "331a854e",
   "metadata": {},
   "source": [
    "**Hospital Costs**\n",
    "\n",
    "\n",
    "Total estimated costs for United States hospitalized West Nile virus cases and death from 1999 through 2012 by cost category from simulation model in 2012 USD\n",
    "\n",
    "|Cost category| Mean| 95% CI| Median |Range |Chicago Mean cost |Chicago cost range estimated |\n",
    "|:---------:|:---:|:---------:|:---:|:---:|:---:|:---:|\n",
    "|Total acute medical care |252,115,100 |158,022,000–458,998,400| 230,879,300| 115,644,400–2,822,846,000|2,068,705|948,908-23,162,580|\n",
    "|Total acute lost productivity†| 22,081,260 |9,550,370–63,069,700| 16,144,050 |7,070,480–2,643,251,000|181,185|58,016-21,688,931|\n",
    "|Total long-term medical care |27,570,280| 11,566,780–56,221,870| 25,468,510| 6,087,800–118,883,900|226,225|49,953-975,489|\n",
    "|Total long-term lost productivity| 26,866,800 |13,526,800–48,279,320| 25,416,720| 7,790,800–85,567,700|220,452|63,927-702,117|\n",
    "|Total lifetime lost productivity caused by deaths‡ |449,464,800| (NA)| 449,464,800 | (NA)|3,688,038|NA|\n",
    "\n",
    "*All values are in USD\n",
    "\n",
    "*Multiplied the mean and range of USA costs by 0.008205 which is Chicago's population ratio over USA\n",
    "\n",
    "*Represents the mean and median of the 10,000 outputs from the Monte Carlo simulation model for 18,256 hospitalized West Nile virus (WNV) disease cases\n",
    "\n",
    "†Includes only survivors\n",
    "\n",
    "‡Lifetime lost productivity was calculated directly from Grosse and others based on age and sex for the 1,524 WNV disease case-patients reported to Centers for Disease Control (Staples et al, 2014) [*(Source)*](https://www.ncbi.nlm.nih.gov/pmc/articles/PMC3945683/pdf/tropmed-90-402.pdf) "
   ]
  },
  {
   "cell_type": "markdown",
   "id": "fb333c9c",
   "metadata": {},
   "source": [
    "The total estimated hospitalisation costs are high and this do not include outpatient visits and discharged patients follow up costs. \n",
    "\n",
    "Nonetheless, the important takeaway from our external research is that the benefits of fogging the entire City of Chicago greatly outweights the cost. Specifically, there are \n",
    "huge savings re hospitalisation bills that we can reap if we manage to eradicate the West Nile Virus via fogging of entire Chicago city once every fortnightly for 6 months. "
   ]
  },
  {
   "cell_type": "markdown",
   "id": "4de2337b",
   "metadata": {},
   "source": [
    "---\n",
    "---"
   ]
  },
  {
   "cell_type": "markdown",
   "id": "6ab33b5d",
   "metadata": {},
   "source": [
    "## <span style=\"color:teal\"> 5) Executive Summary</span>"
   ]
  },
  {
   "cell_type": "markdown",
   "id": "c6504ef4",
   "metadata": {},
   "source": [
    "**Recap of problem statement**\n",
    "    \n",
    "We are a group of data scientists working who just started work at the Disease And Treatment Agency, division of Societal Cures In Epidemiology and New Creative Engineering (DATA-SCIENCE). Due to the recent epidemic of West Nile Virus in the Windy City, we've been tasked by the Department of Public Health to build a classifer model to predict the possibility of west Nile Virus occuring on various locations of interest based on the data collected over time. It is our hope that with the model, we could make more informed decisions on the deployment of pesticides in the fight for public health and safety. While pesticides are a necessary evil in the fight against the West Nile Virus, it is very expensive. At such, we will also conduct a cost-benefit analysis regarding use of pesticides to manage the epidemic.\n",
    "\n",
    "**Summary**\n",
    "Having evaluate five models for our classifier (i.e. KNN, SMV, Log Reg, Random Forest and Extra Trees), their respective scores are as such:\n",
    "\n",
    "| Model| Train Accuracy|Test Accuracy|   Sensitivity | Baseline acc|True Pos |False Pos|False Neg|True Pos|\n",
    "|:---------:|:---:|:--------:|:-------:|:----------:|:-----:|:----------:|:-----:|:-------:|\n",
    "KNearest Neighbours|1.0|0.9476|0.0563|0.0539|5284|8|285|17|\n",
    "Support Vector Machine|0.9471|0.9458|0.0033|0.0539|5290|8|301|1|\n",
    "Logistic Regression|0.9488|0.9480|0.0762|0.0539|5280|12|279|23|\n",
    "Random Forest| 0.9957|0.9544|0.4172|0.0539|5213|79|176|126|\n",
    "Extra Trees| 0.9521|0.9097|0.6126|0.0539|4904|388|117|185|\n",
    "\n",
    "As we are concerned about correctly identifying the presence of the West Nile Virus, we have predominantly used the test accuracy score to choose the best performing model. Notwithstanding this, we also looked at the sensitivity score so as to ensure that we keep our false positives to a minimum. Taking these two evaluation metrics into account, we observed that our Random Forest model is the most ideal (i.e. test accuracy of 0.9544 and sensitivity of 0.4172). \n",
    "\n",
    "This goes to suggest that our model predicts 95.44% of the test observations correctly. Among obsevations that have the West Nile Virus, our model has 41.72% of them classified accurately.\n",
    "\n",
    "Re cost-benefit analysis, our earlier paragraph shows that the cost of spraying the whole of Chicago fortnightly for 6 months (including the summer months) will cost about $2.8mil. This is far lower that the total estimated hospitalisation costs (see figures under \"Chicago Mean Cost\" from table above) from West Nile Virus and demonstrates a clear impetus for the city of Chicago to spray insecticide city-wide to reduce the spread of the virus. \n"
   ]
  },
  {
   "cell_type": "markdown",
   "id": "600ca356",
   "metadata": {},
   "source": [
    "---\n",
    "---"
   ]
  }
 ],
 "metadata": {
  "kernelspec": {
   "display_name": "Python 3",
   "language": "python",
   "name": "python3"
  },
  "language_info": {
   "codemirror_mode": {
    "name": "ipython",
    "version": 3
   },
   "file_extension": ".py",
   "mimetype": "text/x-python",
   "name": "python",
   "nbconvert_exporter": "python",
   "pygments_lexer": "ipython3",
   "version": "3.8.8"
  }
 },
 "nbformat": 4,
 "nbformat_minor": 5
}
